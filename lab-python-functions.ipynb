{
 "cells": [
  {
   "cell_type": "markdown",
   "id": "25d7736c-ba17-4aff-b6bb-66eba20fbf4e",
   "metadata": {},
   "source": [
    "# Lab | Functions"
   ]
  },
  {
   "cell_type": "markdown",
   "id": "0c581062-8967-4d93-b06e-62833222f930",
   "metadata": {
    "tags": []
   },
   "source": [
    "## Exercise: Managing Customer Orders with Functions\n",
    "\n",
    "In the previous exercise, you improved the code for managing customer orders by using loops and flow control. Now, let's take it a step further and refactor the code by introducing functions.\n",
    "\n",
    "Follow the steps below to complete the exercise:\n",
    "\n",
    "1. Define a function named `initialize_inventory` that takes `products` as a parameter. Inside the function, implement the code for initializing the inventory dictionary using a loop and user input.\n",
    "\n",
    "2. Define a function named `get_customer_orders` that takes no parameters. Inside the function, implement the code for prompting the user to enter the product names using a loop. The function should return the `customer_orders` set.\n",
    "\n",
    "3. Define a function named `update_inventory` that takes `customer_orders` and `inventory` as parameters. Inside the function, implement the code for updating the inventory dictionary based on the customer orders.\n",
    "\n",
    "4. Define a function named `calculate_order_statistics` that takes `customer_orders` and `products` as parameters. Inside the function, implement the code for calculating the order statistics (total products ordered, and percentage of unique products ordered). The function should return these values.\n",
    "\n",
    "5. Define a function named `print_order_statistics` that takes `order_statistics` as a parameter. Inside the function, implement the code for printing the order statistics.\n",
    "\n",
    "6. Define a function named `print_updated_inventory` that takes `inventory` as a parameter. Inside the function, implement the code for printing the updated inventory.\n",
    "\n",
    "7. Call the functions in the appropriate sequence to execute the program and manage customer orders.\n",
    "\n",
    "Hints for functions:\n",
    "\n",
    "- Consider the input parameters required for each function and their return values.\n",
    "- Utilize function parameters and return values to transfer data between functions.\n",
    "- Test your functions individually to ensure they work correctly.\n",
    "\n",
    "\n"
   ]
  },
  {
   "cell_type": "markdown",
   "id": "668181f3",
   "metadata": {},
   "source": [
    "**~~~ Resolución ~~~**"
   ]
  },
  {
   "cell_type": "markdown",
   "id": "12582bca",
   "metadata": {},
   "source": [
    "1º\n",
    "- Recogemos en la función como parámetro una lista de elementos.\n",
    "- Recorremos la lista, se selecciona el diccionario vacío y se le añade cada elemento de la lista como clave.\n",
    "- Los valores de cada clave serán los inputs del usuario."
   ]
  },
  {
   "cell_type": "code",
   "execution_count": 25,
   "id": "d2a3cc4f",
   "metadata": {},
   "outputs": [],
   "source": [
    "def initialize_inventory(products):\n",
    "    inventory = {}\n",
    "    for producto in products:\n",
    "        inventory[producto] = int(input(f'Ingresa la cantidad de {producto}:'))\n",
    "    return inventory"
   ]
  },
  {
   "cell_type": "markdown",
   "id": "c3085fdc",
   "metadata": {},
   "source": [
    "2º\n",
    "- Definimos el set vacio antes de entrar en los condicionales.\n",
    "- Tenemos dos condicionales, inicia al menos una vez el primero y el segundo a través del while True.\n",
    "- En el segundo condicional, si la respuesta es 'S' termina el segundo condicional y retorna al primero que permanece True.\n",
    "- Si la respuesta del input es 'N' devuelve el set con los inputs almacenados.\n",
    "- Si el input del segundo condicional no coincide con 'S' o 'N' hace un print, el segundo condicional permanece True por lo que vuelve a solicitar el mismo input hasta que la respuesta sea aceptable."
   ]
  },
  {
   "cell_type": "code",
   "execution_count": 34,
   "id": "2860f084",
   "metadata": {},
   "outputs": [],
   "source": [
    "def get_customer_orders():    \n",
    "    customer_orders = set()\n",
    "    \n",
    "    while True:\n",
    "        producto = input('Añade a la lista un producto que el cliente desea: ')\n",
    "        customer_orders.add(producto)\n",
    "        \n",
    "        while True:\n",
    "            continuar = input('¿Quieres añadir otro producto? (S/N): ').upper()\n",
    "            if continuar == 'S':\n",
    "                break\n",
    "            elif continuar == 'N':\n",
    "                return customer_orders\n",
    "            else:\n",
    "                print('Disculpa, no he entendido tu respuesta. Por favor, introduce S o N.')"
   ]
  },
  {
   "cell_type": "markdown",
   "id": "22eedf17",
   "metadata": {},
   "source": [
    "3º\n",
    "- Recibimos como parametros un set y un diccionario.\n",
    "- Cogemos cada elemento del set que corresponde a las claves del diccionario para recorrerlo."
   ]
  },
  {
   "cell_type": "code",
   "execution_count": 36,
   "id": "27380663",
   "metadata": {},
   "outputs": [],
   "source": [
    "def update_inventory(customer_orders, inventory):\n",
    "    for producto in customer_orders:\n",
    "        if producto in inventory:\n",
    "            inventory[producto] -= 1\n",
    "        else:\n",
    "            print(f'El producto {producto} no está en el inventario.')\n",
    "    \n",
    "    return inventory"
   ]
  },
  {
   "cell_type": "markdown",
   "id": "a3433478",
   "metadata": {},
   "source": [
    "4º\n",
    "- El porcentaje es un cálculo resultante de la longitud del set comparado con la longitud de la lista.\n",
    "- La variable que retornamos es una tupla."
   ]
  },
  {
   "cell_type": "code",
   "execution_count": null,
   "id": "49310853",
   "metadata": {},
   "outputs": [],
   "source": [
    "def calculate_order_statistics(customer_orders, products):\n",
    "    total_products_ordered = len(customer_orders)\n",
    "    percentage_unique_products = total_products_ordered / len(products) * 100\n",
    "    order_stadistics = (total_products_ordered, percentage_unique_products)\n",
    "\n",
    "    return order_stadistics"
   ]
  },
  {
   "cell_type": "markdown",
   "id": "25b9a38c",
   "metadata": {},
   "source": [
    "5º\n",
    "- Con los marcadores de posiciones accedemos a los elementos de la tupla.\n",
    "- Definimos 2 decimales como respuesta al porcentaje devuelto."
   ]
  },
  {
   "cell_type": "code",
   "execution_count": null,
   "id": "80c7babe",
   "metadata": {},
   "outputs": [],
   "source": [
    "def print_order_statistics(order_statistics):\n",
    "    print('Estadísticas del pedido:')\n",
    "    print(f'Total de productos pedidos: {order_statistics[0]}')\n",
    "    print(f'Porcentaje de productos únicos pedidos: {order_statistics[1]:.2f}%')"
   ]
  },
  {
   "cell_type": "markdown",
   "id": "fea48885",
   "metadata": {},
   "source": [
    "6º\n",
    "- Imprimimos los pares clave-valor del diccionario."
   ]
  },
  {
   "cell_type": "code",
   "execution_count": null,
   "id": "6b8db454",
   "metadata": {},
   "outputs": [],
   "source": [
    "def print_updated_inventory(inventory):\n",
    "    print('Inventario actualizado:')\n",
    "    for producto, cantidad in inventory.items():\n",
    "        print(f'{producto}: {cantidad}')"
   ]
  },
  {
   "cell_type": "markdown",
   "id": "d77d63b9",
   "metadata": {},
   "source": [
    "**Resolución en bloque**"
   ]
  },
  {
   "cell_type": "code",
   "execution_count": null,
   "id": "cddbfcc2",
   "metadata": {},
   "outputs": [],
   "source": [
    "def initialize_inventory(products):\n",
    "    inventory = {}\n",
    "    for producto in products:\n",
    "        inventory[producto] = int(input(f'Ingresa la cantidad de {producto}: '))\n",
    "    return inventory\n",
    "\n",
    "\n",
    "def get_customer_orders():    \n",
    "    customer_orders = set()\n",
    "    \n",
    "    while True:\n",
    "        producto = input('Añade a la lista un producto que el cliente desea: ')\n",
    "        customer_orders.add(producto)\n",
    "        \n",
    "        while True:\n",
    "            continuar = input('¿Quieres añadir otro producto? (S/N): ').upper()\n",
    "            if continuar == 'S':\n",
    "                break\n",
    "            elif continuar == 'N':\n",
    "                return customer_orders\n",
    "            else:\n",
    "                print('Disculpa, no he entendido tu respuesta. Por favor, introduce S o N.')\n",
    "\n",
    "\n",
    "def update_inventory(customer_orders, inventory):\n",
    "    for producto in customer_orders:\n",
    "        if producto in inventory:\n",
    "            inventory[producto] -= 1\n",
    "        else:\n",
    "            print(f'El producto {producto} no está en el inventario.')\n",
    "    \n",
    "    return inventory\n",
    "\n",
    "\n",
    "def calculate_order_statistics(customer_orders, products):\n",
    "    total_products_ordered = len(customer_orders)\n",
    "    percentage_unique_products = total_products_ordered / len(products) * 100\n",
    "    order_statistics = (total_products_ordered, percentage_unique_products)\n",
    "\n",
    "    return order_statistics\n",
    "\n",
    "\n",
    "def print_order_statistics(order_statistics):\n",
    "    print(\"Estadísticas del pedido:\")\n",
    "    print(f\"Total de productos pedidos: {order_statistics[0]}\")\n",
    "    print(f\"Porcentaje de productos únicos pedidos: {order_statistics[1]:.2f}%\")\n",
    "\n",
    "\n",
    "def print_updated_inventory(inventory):\n",
    "    print(\"Inventario actualizado:\")\n",
    "    for producto, cantidad in inventory.items():\n",
    "        print(f\"{producto}: {cantidad}\")\n",
    "        \n",
    "\n",
    "def main():\n",
    "    # Lista de productos iniciales\n",
    "    products = ['libros', 'peliculas', 'televisores', 'impresoras']\n",
    "    \n",
    "    # Paso 1: Inicializar el inventario\n",
    "    inventory = initialize_inventory(products)\n",
    "    \n",
    "    # Paso 2: Obtener pedidos del cliente\n",
    "    customer_orders = get_customer_orders()\n",
    "    \n",
    "    # Paso 3: Actualizar el inventario\n",
    "    inventory = update_inventory(customer_orders, inventory)\n",
    "    \n",
    "    # Paso 4: Calcular estadísticas del pedido\n",
    "    order_statistics = calculate_order_statistics(customer_orders, products)\n",
    "    \n",
    "    # Paso 5: Imprimir estadísticas del pedido\n",
    "    print_order_statistics(order_statistics)\n",
    "    \n",
    "    # Paso 6: Imprimir inventario actualizado\n",
    "    print_updated_inventory(inventory)\n",
    "\n",
    "# Llamada a la función principal\n",
    "if __name__ == \"__main__\":\n",
    "    main()"
   ]
  }
 ],
 "metadata": {
  "kernelspec": {
   "display_name": "Python 3 (ipykernel)",
   "language": "python",
   "name": "python3"
  },
  "language_info": {
   "codemirror_mode": {
    "name": "ipython",
    "version": 3
   },
   "file_extension": ".py",
   "mimetype": "text/x-python",
   "name": "python",
   "nbconvert_exporter": "python",
   "pygments_lexer": "ipython3",
   "version": "3.12.4"
  }
 },
 "nbformat": 4,
 "nbformat_minor": 5
}
